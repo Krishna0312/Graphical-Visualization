{
  "nbformat": 4,
  "nbformat_minor": 0,
  "metadata": {
    "colab": {
      "provenance": []
    },
    "kernelspec": {
      "display_name": "visualise",
      "language": "python",
      "name": "visualise"
    },
    "language_info": {
      "codemirror_mode": {
        "name": "ipython",
        "version": 3
      },
      "file_extension": ".py",
      "mimetype": "text/x-python",
      "name": "python",
      "nbconvert_exporter": "python",
      "pygments_lexer": "ipython3",
      "version": "3.8.3"
    }
  },
  "cells": [
    {
      "cell_type": "markdown",
      "metadata": {
        "id": "izU8PETajYKi"
      },
      "source": [
        "Create two random data sets with two features and two classes"
      ]
    },
    {
      "cell_type": "markdown",
      "metadata": {
        "id": "Jzz_J_uiAAYZ"
      },
      "source": [
        "Dependencies"
      ]
    },
    {
      "cell_type": "code",
      "metadata": {
        "id": "fEMx2juljs4x"
      },
      "source": [
        "import numpy as np\n",
        "import pandas as pd\n",
        "import matplotlib.pyplot as plt\n",
        "import warnings\n",
        "warnings.filterwarnings('ignore')"
      ],
      "execution_count": null,
      "outputs": []
    },
    {
      "cell_type": "markdown",
      "metadata": {
        "id": "tOL1rB9NAD-x"
      },
      "source": [
        "Consider that you are given a car height and you have the class label as 1 if cost of car is greater than 550 and 0 if it is less than or equal to 550."
      ]
    },
    {
      "cell_type": "code",
      "metadata": {
        "id": "cw-G401DAaTV"
      },
      "source": [
        "data = pd.read_csv('/content/Data.csv').to_numpy()"
      ],
      "execution_count": null,
      "outputs": []
    },
    {
      "cell_type": "markdown",
      "metadata": {
        "id": "yj4KM4I2CA_L"
      },
      "source": [
        "# Create the labels from the data"
      ]
    },
    {
      "cell_type": "code",
      "metadata": {
        "id": "CTVzL0koBd_s"
      },
      "source": [
        "label = []\n",
        "x_c1 = []\n",
        "x_c2 = []\n",
        "c1_count = 0\n",
        "c2_count = 0\n",
        "for i in range(data.shape[0]):\n",
        "  if(data[i][1] > 550):\n",
        "    label.append(1)\n",
        "    x_c1.append(data[i][0])\n",
        "    c1_count += 1\n",
        "  else:\n",
        "    label.append(0)\n",
        "    x_c2.append(data[i][0])\n",
        "    c2_count += 1"
      ],
      "execution_count": null,
      "outputs": []
    },
    {
      "cell_type": "markdown",
      "metadata": {
        "id": "kaLcCoaVCN-v"
      },
      "source": [
        "# Plotting the distribution of samples."
      ]
    },
    {
      "cell_type": "code",
      "metadata": {
        "colab": {
          "base_uri": "https://localhost:8080/",
          "height": 282
        },
        "id": "YJUJkPO1CTGI",
        "outputId": "37707cc0-53bf-42bd-a45c-275dcba138e1"
      },
      "source": [
        "import seaborn as sns\n",
        "x = data[:,0]\n",
        "sns.histplot(x)\n",
        "#Not a preferred way to plot distribution"
      ],
      "execution_count": null,
      "outputs": [
        {
          "output_type": "execute_result",
          "data": {
            "text/plain": [
              "<matplotlib.axes._subplots.AxesSubplot at 0x7effca37bbd0>"
            ]
          },
          "metadata": {
            "tags": []
          },
          "execution_count": 4
        },
        {
          "output_type": "display_data",
          "data": {
            "image/png": "[encoded data removed]",
            "text/plain": [
              "<Figure size 432x288 with 1 Axes>"
            ]
          },
          "metadata": {
            "tags": [],
            "needs_background": "light"
          }
        }
      ]
    },
    {
      "cell_type": "code",
      "metadata": {
        "colab": {
          "base_uri": "https://localhost:8080/",
          "height": 279
        },
        "id": "Oc5zBirFHbUN",
        "outputId": "55fb5171-e680-4cee-ca12-47f23d6e02c4"
      },
      "source": [
        "#This gives a clear idea\n",
        "plt.hist(x)\n",
        "plt.xlabel(\"Height\")\n",
        "plt.ylabel(\"Count\")\n",
        "plt.show()"
      ],
      "execution_count": null,
      "outputs": [
        {
          "output_type": "display_data",
          "data": {
            "image/png": "[encoded data removed]",
            "text/plain": [
              "<Figure size 432x288 with 1 Axes>"
            ]
          },
          "metadata": {
            "tags": [],
            "needs_background": "light"
          }
        }
      ]
    },
    {
      "cell_type": "markdown",
      "metadata": {
        "id": "x9jp64nSDLjp"
      },
      "source": [
        "# Prior Probabilities for both the classes"
      ]
    },
    {
      "cell_type": "code",
      "metadata": {
        "colab": {
          "base_uri": "https://localhost:8080/"
        },
        "id": "5rCzFekrDO0s",
        "outputId": "bc86cb00-f051-4082-fd51-766e80dc1382"
      },
      "source": [
        "no_of_samples = len(data)\n",
        "prob_c1 = c1_count/no_of_samples\n",
        "prob_c2 = c2_count/no_of_samples\n",
        "print(\"Prior Class 1:\",prob_c1)\n",
        "print(\"Prior Class 2:\",prob_c2)"
      ],
      "execution_count": null,
      "outputs": [
        {
          "output_type": "stream",
          "text": [
            "Prior Class 1: 0.8518518518518519\n",
            "Prior Class 2: 0.14814814814814814\n"
          ],
          "name": "stdout"
        }
      ]
    },
    {
      "cell_type": "markdown",
      "metadata": {
        "id": "NxqjnXOQEWTd"
      },
      "source": [
        "# Unique Values"
      ]
    },
    {
      "cell_type": "code",
      "metadata": {
        "id": "z-lzaxRbFUpG"
      },
      "source": [
        "from collections import Counter\n",
        "unique_c1 = Counter(x_c1).keys()\n",
        "count_unique_c1 = list(Counter(x_c1).values())\n",
        "unique_c2 = Counter(x_c2).keys()\n",
        "count_unique_c2 = list(Counter(x_c2).values())"
      ],
      "execution_count": null,
      "outputs": []
    },
    {
      "cell_type": "markdown",
      "metadata": {
        "id": "TKVN0qP8GpcF"
      },
      "source": [
        "Plot the count of each unique element of the feature"
      ]
    },
    {
      "cell_type": "code",
      "metadata": {
        "colab": {
          "base_uri": "https://localhost:8080/"
        },
        "id": "uMKviaLiJ02z",
        "outputId": "6b29fef3-52d3-433b-a5bd-3f9d8b8d7683"
      },
      "source": [
        "unique_c1"
      ],
      "execution_count": null,
      "outputs": [
        {
          "output_type": "execute_result",
          "data": {
            "text/plain": [
              "dict_keys([3.0, 4.0, 2.0, 1.0, 1.5, 2.5])"
            ]
          },
          "metadata": {
            "tags": []
          },
          "execution_count": 8
        }
      ]
    },
    {
      "cell_type": "code",
      "metadata": {
        "colab": {
          "base_uri": "https://localhost:8080/"
        },
        "id": "zVrxG0XOJ30W",
        "outputId": "8370ebee-f145-42f5-9745-151155b4799b"
      },
      "source": [
        "count_unique_c1"
      ],
      "execution_count": null,
      "outputs": [
        {
          "output_type": "execute_result",
          "data": {
            "text/plain": [
              "[6, 1, 4, 5, 5, 2]"
            ]
          },
          "metadata": {
            "tags": []
          },
          "execution_count": 9
        }
      ]
    },
    {
      "cell_type": "code",
      "metadata": {
        "colab": {
          "base_uri": "https://localhost:8080/",
          "height": 279
        },
        "id": "NMKYZoUQGq16",
        "outputId": "c9322f95-c3af-4c21-c13b-a303753a518e"
      },
      "source": [
        "#Not a preferred way to plot distribution\n",
        "plt.bar(unique_c1,count_unique_c1)\n",
        "plt.xlabel(\"Elements in class\")\n",
        "plt.ylabel(\"Count\")\n",
        "plt.show()"
      ],
      "execution_count": null,
      "outputs": [
        {
          "output_type": "display_data",
          "data": {
            "image/png": "[encoded data removed]",
            "text/plain": [
              "<Figure size 432x288 with 1 Axes>"
            ]
          },
          "metadata": {
            "tags": [],
            "needs_background": "light"
          }
        }
      ]
    },
    {
      "cell_type": "code",
      "metadata": {
        "colab": {
          "base_uri": "https://localhost:8080/",
          "height": 279
        },
        "id": "GjcrMXXnKxq-",
        "outputId": "4217794e-6672-458a-8747-663c9365bfb5"
      },
      "source": [
        "sns.lineplot(list(unique_c1),count_unique_c1)\n",
        "plt.xlabel(\"Elements in class\")\n",
        "plt.ylabel(\"Count\")\n",
        "plt.show()"
      ],
      "execution_count": null,
      "outputs": [
        {
          "output_type": "display_data",
          "data": {
            "image/png": "[encoded data removed]",
            "text/plain": [
              "<Figure size 432x288 with 1 Axes>"
            ]
          },
          "metadata": {
            "tags": [],
            "needs_background": "light"
          }
        }
      ]
    },
    {
      "cell_type": "code",
      "metadata": {
        "colab": {
          "base_uri": "https://localhost:8080/",
          "height": 279
        },
        "id": "QAmdvoVtWB1K",
        "outputId": "fbd7bd8e-a4b4-491f-bef0-5493182416f8"
      },
      "source": [
        "#Probability distribution of x_c2\n",
        "sns.distplot(x_c2)\n",
        "plt.xlabel(\"Elements in class\")\n",
        "plt.ylabel(\"Count\")\n",
        "plt.show()"
      ],
      "execution_count": null,
      "outputs": [
        {
          "output_type": "display_data",
          "data": {
            "image/png": "[encoded data removed]",
            "text/plain": [
              "<Figure size 432x288 with 1 Axes>"
            ]
          },
          "metadata": {
            "tags": [],
            "needs_background": "light"
          }
        }
      ]
    },
    {
      "cell_type": "code",
      "metadata": {
        "colab": {
          "base_uri": "https://localhost:8080/",
          "height": 279
        },
        "id": "R6BHvHIpL1R1",
        "outputId": "c06182cc-4640-4daf-a7fa-97bcfe5d1bc8"
      },
      "source": [
        "#Plot for the unique values in class c2\n",
        "sns.scatterplot(list(unique_c2),count_unique_c2)\n",
        "plt.xlabel(\"Elements in class\")\n",
        "plt.ylabel(\"Count\")\n",
        "plt.show()"
      ],
      "execution_count": null,
      "outputs": [
        {
          "output_type": "display_data",
          "data": {
            "image/png": "[encoded data removed]",
            "text/plain": [
              "<Figure size 432x288 with 1 Axes>"
            ]
          },
          "metadata": {
            "tags": [],
            "needs_background": "light"
          }
        }
      ]
    },
    {
      "cell_type": "markdown",
      "metadata": {
        "id": "qd5pEloAxa0K"
      },
      "source": [
        "# Likelihood"
      ]
    },
    {
      "cell_type": "markdown",
      "metadata": {
        "id": "fb34_4t7Phao"
      },
      "source": [
        "Plot P(x|C1) and P(x|C2)"
      ]
    },
    {
      "cell_type": "code",
      "metadata": {
        "colab": {
          "base_uri": "https://localhost:8080/",
          "height": 279
        },
        "id": "bAWU2UelOclu",
        "outputId": "38d9a225-5758-4cad-8820-b4686d9958f2"
      },
      "source": [
        "#sns.color_palette(\"Paired\", 9)\n",
        "y1 = np.array(count_unique_c1)/len(x_c1)\n",
        "sns.pointplot(list(unique_c1),y1, linestyles=\"--\",markers =['x'] )\n",
        "y2 = np.array(count_unique_c2)/len(x_c2)\n",
        "sns.pointplot(list(unique_c2),y2,linestyles='-',markers=['o'])\n",
        "plt.xlabel(\"Class\")\n",
        "plt.ylabel(\"P(x|c)\")\n",
        "plt.show()"
      ],
      "execution_count": null,
      "outputs": [
        {
          "output_type": "display_data",
          "data": {
            "image/png": "[encoded data removed]",
            "text/plain": [
              "<Figure size 432x288 with 1 Axes>"
            ]
          },
          "metadata": {
            "tags": [],
            "needs_background": "light"
          }
        }
      ]
    },
    {
      "cell_type": "markdown",
      "metadata": {
        "id": "n-aTLzeVEnvL"
      },
      "source": [
        "# Posterior Probability"
      ]
    },
    {
      "cell_type": "code",
      "metadata": {
        "collapsed": true,
        "id": "T53ulmV-xa0L",
        "colab": {
          "base_uri": "https://localhost:8080/"
        },
        "outputId": "93425b20-5ae9-4c37-8b55-414dae39c685"
      },
      "source": [
        "full = x_c1\n",
        "full.extend(x_c2)\n",
        "cnt = Counter(full)\n",
        "cnt"
      ],
      "execution_count": null,
      "outputs": [
        {
          "output_type": "execute_result",
          "data": {
            "text/plain": [
              "Counter({1.0: 6, 1.5: 5, 2.0: 4, 2.5: 3, 3.0: 7, 4.0: 1, 5.0: 1})"
            ]
          },
          "metadata": {
            "tags": []
          },
          "execution_count": 15
        }
      ]
    },
    {
      "cell_type": "code",
      "metadata": {
        "collapsed": true,
        "id": "jILlWDYyExKs"
      },
      "source": [
        "prob_x_c1 = [cnt[x]/no_of_samples for x in unique_c1]\n",
        "prob_x_c2 = [cnt[x]/no_of_samples for x in unique_c2]"
      ],
      "execution_count": null,
      "outputs": []
    },
    {
      "cell_type": "code",
      "metadata": {
        "collapsed": true,
        "id": "DtcnOhq3Ipa3",
        "colab": {
          "base_uri": "https://localhost:8080/"
        },
        "outputId": "370e1516-dfab-482e-817c-94abb7d4eae4"
      },
      "source": [
        "prob_x_c2"
      ],
      "execution_count": null,
      "outputs": [
        {
          "output_type": "execute_result",
          "data": {
            "text/plain": [
              "[0.2222222222222222,\n",
              " 0.037037037037037035,\n",
              " 0.25925925925925924,\n",
              " 0.1111111111111111]"
            ]
          },
          "metadata": {
            "tags": []
          },
          "execution_count": 18
        }
      ]
    },
    {
      "cell_type": "markdown",
      "metadata": {
        "id": "9tNzBLq8PtDF"
      },
      "source": [
        "Plot P(C1|x) and P(C2|x)"
      ]
    },
    {
      "cell_type": "code",
      "metadata": {
        "collapsed": true,
        "id": "V4buNIKIIsjD",
        "colab": {
          "base_uri": "https://localhost:8080/",
          "height": 279
        },
        "outputId": "02eca82d-9524-4679-b99e-b7035343e984"
      },
      "source": [
        "post1 = y1*prob_c1/prob_x_c1\n",
        "post2 = y2*prob_c2/prob_x_c2\n",
        "\n",
        "sns.pointplot(list(unique_c1),post1, linestyles=\"--\",markers =['x'] )\n",
        "sns.pointplot(list(unique_c2),post2,linestyles='-',markers=['o'])\n",
        "plt.xlabel(\"Class\")\n",
        "plt.ylabel(\"P(c|x)\")\n",
        "plt.show()"
      ],
      "execution_count": null,
      "outputs": [
        {
          "output_type": "display_data",
          "data": {
            "image/png": "[encoded data removed]",
            "text/plain": [
              "<Figure size 432x288 with 1 Axes>"
            ]
          },
          "metadata": {
            "tags": [],
            "needs_background": "light"
          }
        }
      ]
    },
    {
      "cell_type": "markdown",
      "metadata": {
        "id": "PHufzKbiCF7Q"
      },
      "source": [
        "# Dataset 2"
      ]
    },
    {
      "cell_type": "markdown",
      "metadata": {
        "id": "wjmO4tOgJHxF"
      },
      "source": [
        "Read dataset. c1 contains two features of class 1 and c2 contains the two features for class 2."
      ]
    },
    {
      "cell_type": "code",
      "metadata": {
        "id": "LFNPgrUtjI3l"
      },
      "source": [
        "class1_train = pd.read_csv('/content/c1.csv').to_numpy()\n",
        "class2_train = pd.read_csv('/content/c2.csv').to_numpy()"
      ],
      "execution_count": null,
      "outputs": []
    },
    {
      "cell_type": "markdown",
      "metadata": {
        "id": "mBk8Z1cUJQ4m"
      },
      "source": [
        "Print the data"
      ]
    },
    {
      "cell_type": "code",
      "metadata": {
        "colab": {
          "base_uri": "https://localhost:8080/"
        },
        "id": "nyc-0P38jr17",
        "outputId": "f0f3f60c-a75c-499f-e4e3-d288141d6361"
      },
      "source": [
        "print(class1_train.shape)\n",
        "print(class1_train)\n",
        "print(type(class2_train))\n",
        "print(class2_train.shape)\n",
        "print(type(class1_train))\n",
        "print(class2_train)"
      ],
      "execution_count": null,
      "outputs": [
        {
          "output_type": "stream",
          "text": [
            "(160, 2)\n",
            "[[ 3.20478053e-01  4.81092097e-01]\n",
            " [ 5.06909985e-02  9.63995041e-02]\n",
            " [ 3.74846984e+00  4.03931041e-01]\n",
            " [ 2.25637447e+00  2.08996208e+00]\n",
            " [ 1.42145382e+00  1.24362901e+00]\n",
            " [ 4.08062705e-01  9.24810050e-01]\n",
            " [ 1.60681941e+00  4.75268430e-01]\n",
            " [ 1.57397678e+00  1.60394699e+00]\n",
            " [ 1.73121450e+00  2.43452464e+00]\n",
            " [ 9.30696141e-01  2.12345759e-01]\n",
            " [ 1.43750641e+00 -2.84913595e-01]\n",
            " [-4.91480512e-01  2.70506180e-01]\n",
            " [ 2.35052206e+00  2.34923853e+00]\n",
            " [ 1.06032568e+00  2.25909849e-01]\n",
            " [ 2.23321779e+00  1.18800751e+00]\n",
            " [-3.36602971e-01  8.26100949e-01]\n",
            " [ 1.21051794e+00  3.59324046e-01]\n",
            " [ 1.95878231e+00  2.81435856e+00]\n",
            " [ 5.35856323e-01 -1.54336636e-01]\n",
            " [ 2.89423945e+00  1.71311383e+00]\n",
            " [ 1.38569352e+00  1.74692600e+00]\n",
            " [ 1.27854113e+00 -3.70841388e-01]\n",
            " [-9.07354159e-02  2.42044784e+00]\n",
            " [ 9.07143282e-01  5.69730755e-01]\n",
            " [ 2.28848082e+00  1.68559588e+00]\n",
            " [-1.53479431e-01 -3.95808482e-01]\n",
            " [ 2.40208659e+00  4.41623125e-01]\n",
            " [ 1.21455553e+00  1.51675544e+00]\n",
            " [ 3.15059021e+00  2.15931522e+00]\n",
            " [ 1.61705139e-01  2.27584873e-01]\n",
            " [ 3.76563297e-01  2.39668017e+00]\n",
            " [-7.80093524e-02  1.29550862e+00]\n",
            " [ 7.93102203e-01  7.18138670e-01]\n",
            " [ 6.38655629e-01  1.71512068e+00]\n",
            " [ 1.17419310e+00  1.21156020e+00]\n",
            " [ 7.82910083e-01  1.83746859e+00]\n",
            " [ 1.56704382e+00  2.32571221e+00]\n",
            " [ 1.34640435e+00  1.53574863e+00]\n",
            " [ 1.48100091e+00  1.97369049e+00]\n",
            " [ 1.32115969e-01  3.72019145e+00]\n",
            " [ 6.47153893e-01  1.90929459e+00]\n",
            " [ 8.34537190e-01  4.36696082e-01]\n",
            " [ 1.79097819e+00  4.97727218e-01]\n",
            " [ 1.65613457e-01  4.48146568e-01]\n",
            " [ 1.77382987e+00  3.59584258e-01]\n",
            " [ 2.81055454e-01  1.86934895e+00]\n",
            " [-5.41514032e-01 -1.78206678e+00]\n",
            " [-3.17104082e-03  5.82448438e-01]\n",
            " [ 2.65977524e-01  7.45623206e-01]\n",
            " [ 1.67998755e+00  1.47524432e+00]\n",
            " [-7.69278364e-02  5.51096714e-01]\n",
            " [ 5.31289201e-01  1.23125697e+00]\n",
            " [-1.35464199e+00  2.31165217e+00]\n",
            " [ 1.86463296e+00  1.04276634e+00]\n",
            " [ 1.37080655e-01  9.59573148e-01]\n",
            " [ 6.72782686e-01  1.33101489e+00]\n",
            " [ 2.71373259e-01  2.09255502e+00]\n",
            " [ 4.90872899e-01  1.42871276e+00]\n",
            " [ 8.44245750e-01  1.45908004e+00]\n",
            " [-1.41755824e-01  1.60526601e+00]\n",
            " [-5.43108759e-01  2.55483216e+00]\n",
            " [ 1.86662852e+00 -4.95533153e-01]\n",
            " [ 1.62968289e+00 -2.07118592e-01]\n",
            " [-9.41519515e-02  1.63625097e+00]\n",
            " [-2.79426133e-01  1.41589476e+00]\n",
            " [-6.83401357e-01  9.43997185e-01]\n",
            " [ 2.84099543e+00  1.68822895e+00]\n",
            " [ 2.49599528e-01  1.30062987e+00]\n",
            " [ 7.00035666e-01 -2.71102265e-01]\n",
            " [-4.03926837e-01  2.10141031e+00]\n",
            " [ 1.06378846e-02  1.07368558e+00]\n",
            " [ 8.79023000e-01 -5.53299817e-01]\n",
            " [ 7.96222695e-01  2.03630162e+00]\n",
            " [ 1.63923033e+00  5.28634691e-01]\n",
            " [ 3.47535578e-01  2.31594124e+00]\n",
            " [ 1.09034673e+00  5.81402834e-01]\n",
            " [ 1.59950909e+00  1.57251835e+00]\n",
            " [ 1.71809918e+00  1.69350589e+00]\n",
            " [-3.26992419e-01  1.26337157e+00]\n",
            " [ 1.45715845e+00 -5.77884572e-01]\n",
            " [ 2.29163646e+00 -1.67802437e+00]\n",
            " [ 1.53354517e+00  1.41717632e+00]\n",
            " [ 1.25734675e+00  2.27775563e+00]\n",
            " [-3.97442350e-01  4.97510207e-01]\n",
            " [ 1.85502902e+00  1.63659070e+00]\n",
            " [ 1.66070698e+00  4.62049120e-01]\n",
            " [ 1.83500805e+00  4.78981246e-01]\n",
            " [-4.48501805e-01  6.91542368e-01]\n",
            " [ 1.33206620e+00  2.51223858e-01]\n",
            " [ 5.34460573e-01  1.36866125e+00]\n",
            " [ 3.08028369e+00  2.13323258e+00]\n",
            " [ 2.56037183e+00  1.20455583e+00]\n",
            " [-8.12853105e-01  6.72161126e-01]\n",
            " [ 6.08373202e-01  1.45279870e-01]\n",
            " [ 1.64903113e+00  1.84257012e+00]\n",
            " [ 7.64268036e-01  1.19328978e-01]\n",
            " [-1.54616074e+00  1.54949478e+00]\n",
            " [ 1.12912699e-01  5.20482737e-01]\n",
            " [ 6.26671034e-01  2.19932279e+00]\n",
            " [ 4.37228150e-01  1.51231575e+00]\n",
            " [ 6.20802826e-01 -3.75429035e-02]\n",
            " [-2.32788588e-01  1.16106876e+00]\n",
            " [ 5.47319033e-01  1.32959599e+00]\n",
            " [-5.08058110e-01  5.65862993e-01]\n",
            " [-1.12255957e-01  1.66569447e+00]\n",
            " [ 1.10432791e+00  1.45039760e-01]\n",
            " [ 4.76066716e-01  4.74144853e-01]\n",
            " [ 1.50196813e+00  1.84635107e+00]\n",
            " [ 2.23265492e+00  1.75318958e+00]\n",
            " [ 2.29377019e+00  1.30509813e+00]\n",
            " [ 9.07942796e-01  7.00611759e-01]\n",
            " [ 1.13254903e+00  1.02626596e+00]\n",
            " [ 8.54065000e-01  1.38844087e+00]\n",
            " [ 6.53905976e-01  2.38008826e-01]\n",
            " [ 1.71254571e+00  1.23857520e+00]\n",
            " [ 1.50098858e+00  1.38288967e+00]\n",
            " [ 4.78423464e-01  8.05416806e-01]\n",
            " [ 3.17753682e-01  1.13624769e+00]\n",
            " [ 1.50595214e+00  2.16815705e+00]\n",
            " [ 1.02321995e+00  4.24118866e-01]\n",
            " [ 8.91047866e-01  3.42817869e-01]\n",
            " [ 1.19797585e+00  1.46254751e+00]\n",
            " [ 1.29278402e+00  1.79121697e+00]\n",
            " [ 7.57546960e-01  5.19767193e-01]\n",
            " [ 1.21450536e+00  4.66844731e-01]\n",
            " [ 2.89530342e+00  3.02859786e+00]\n",
            " [ 1.88832348e-01  1.57914801e+00]\n",
            " [ 1.95222684e+00  2.00068827e+00]\n",
            " [ 3.16808561e-01 -4.96124630e-01]\n",
            " [ 8.98482736e-01  2.01440669e+00]\n",
            " [ 2.69468703e+00  2.18881682e-01]\n",
            " [ 1.94441669e-01  3.99373790e-01]\n",
            " [-1.64156190e-01  1.05062882e+00]\n",
            " [ 1.47536889e+00  6.46124625e-01]\n",
            " [ 1.07130560e-01  5.99864878e-01]\n",
            " [ 9.50165257e-01  2.29633934e+00]\n",
            " [ 3.69413795e-01  1.78269675e+00]\n",
            " [ 3.65390197e-01  1.71821839e+00]\n",
            " [ 1.83836715e+00 -1.54973354e-01]\n",
            " [-2.14790517e-01  8.24905710e-01]\n",
            " [ 1.85458954e+00  1.56737735e-01]\n",
            " [ 8.35193143e-01 -1.27234055e-01]\n",
            " [ 2.22949907e+00  7.09936040e-01]\n",
            " [ 1.21839345e+00  3.42619229e-01]\n",
            " [ 1.58295425e+00 -2.06538409e-01]\n",
            " [ 1.02094589e+00 -8.53956382e-02]\n",
            " [ 2.49658753e+00  2.34057083e+00]\n",
            " [ 6.11183752e-01  9.48687274e-01]\n",
            " [ 1.14635245e+00  5.81664167e-01]\n",
            " [ 2.13218993e+00  1.00272506e+00]\n",
            " [ 5.11547343e-01  7.53061210e-01]\n",
            " [ 1.41787065e-01  9.70052104e-01]\n",
            " [ 1.76369632e+00 -1.45803711e+00]\n",
            " [-1.15921000e+00  6.25002729e-01]\n",
            " [ 3.92831716e-01  5.79477737e-01]\n",
            " [ 3.83431563e+00  2.57879379e+00]\n",
            " [ 1.69017776e+00  2.13917001e-01]\n",
            " [ 6.10302214e-01  7.98047113e-01]\n",
            " [ 1.64545215e+00  9.80061156e-01]\n",
            " [ 2.18614787e+00  1.65524566e+00]]\n",
            "<class 'numpy.ndarray'>\n",
            "(39, 2)\n",
            "<class 'numpy.ndarray'>\n",
            "[[-0.7790189   1.16386885]\n",
            " [-1.34514566 -2.32370674]\n",
            " [-0.52836145 -1.59400495]\n",
            " [-0.90417352 -1.30611604]\n",
            " [-1.01948659 -1.33690662]\n",
            " [ 0.4017355  -0.1928143 ]\n",
            " [ 0.17997268 -0.36784276]\n",
            " [-1.75219243  0.23416112]\n",
            " [-1.33590287 -0.64121032]\n",
            " [-1.84374181 -1.15351502]\n",
            " [ 0.23512604 -0.4820237 ]\n",
            " [-0.83293518 -1.15616973]\n",
            " [-2.40313726 -0.81073131]\n",
            " [-0.20163836  0.1471181 ]\n",
            " [-1.42599684 -2.38405297]\n",
            " [-1.0061799  -0.35767457]\n",
            " [-0.09423858 -1.45204129]\n",
            " [-0.28991801 -1.0782606 ]\n",
            " [-2.44713737 -1.15621129]\n",
            " [ 0.59801799 -0.32144022]\n",
            " [-1.0064447  -1.030278  ]\n",
            " [-0.82970779 -0.05044485]\n",
            " [-0.76248959 -0.84384686]\n",
            " [-3.32471301 -1.06813795]\n",
            " [-1.48557176 -1.87571896]\n",
            " [-0.99962918  0.58229286]\n",
            " [ 0.8557429   0.56950641]\n",
            " [-2.72520704 -2.81035423]\n",
            " [-3.70248416 -1.81223506]\n",
            " [-0.63945063 -0.40306483]\n",
            " [-1.01456455 -1.98684012]\n",
            " [-0.80974435 -1.12047576]\n",
            " [-2.18284159  0.04264866]\n",
            " [-3.11712168 -2.84635664]\n",
            " [-0.20157447 -1.0574348 ]\n",
            " [-1.12415544 -0.48861234]\n",
            " [ 0.60064777 -0.38262217]\n",
            " [ 0.16293271  0.20020738]\n",
            " [-0.86757022 -2.73055969]]\n"
          ],
          "name": "stdout"
        }
      ]
    },
    {
      "cell_type": "markdown",
      "metadata": {
        "id": "R-wrTyMums4P"
      },
      "source": [
        "# Plotting the distribution of samples."
      ]
    },
    {
      "cell_type": "code",
      "metadata": {
        "colab": {
          "base_uri": "https://localhost:8080/",
          "height": 268
        },
        "id": "NcpXarchmsbk",
        "outputId": "3c7237eb-a094-4f7c-cb7d-dcbe1484aae7"
      },
      "source": [
        "import seaborn as sns\n",
        "sns.scatterplot(class1_train[:,0],class1_train[:,1],marker='.')\n",
        "sns.scatterplot(class2_train[:,0],class2_train[:,1],marker='x')\n",
        "plt.show()"
      ],
      "execution_count": null,
      "outputs": [
        {
          "output_type": "display_data",
          "data": {
            "image/png": "[encoded data removed]",
            "text/plain": [
              "<Figure size 432x288 with 1 Axes>"
            ]
          },
          "metadata": {
            "tags": [],
            "needs_background": "light"
          }
        }
      ]
    },
    {
      "cell_type": "markdown",
      "metadata": {
        "id": "gIoL--pDl4CC"
      },
      "source": [
        "Determine Prior Probabilities"
      ]
    },
    {
      "cell_type": "code",
      "metadata": {
        "id": "7hLlZv9Ejv-r"
      },
      "source": [
        "no_of_samples = len(class1_train)+len(class2_train)"
      ],
      "execution_count": null,
      "outputs": []
    },
    {
      "cell_type": "code",
      "metadata": {
        "colab": {
          "base_uri": "https://localhost:8080/"
        },
        "id": "6Qt2AcJgmGNl",
        "outputId": "2adcf682-b2be-470f-f020-a25a648c98fa"
      },
      "source": [
        "prob_c1 = len(class1_train)/no_of_samples\n",
        "prob_c1"
      ],
      "execution_count": null,
      "outputs": [
        {
          "output_type": "execute_result",
          "data": {
            "text/plain": [
              "0.8040201005025126"
            ]
          },
          "metadata": {
            "tags": []
          },
          "execution_count": 26
        }
      ]
    },
    {
      "cell_type": "code",
      "metadata": {
        "colab": {
          "base_uri": "https://localhost:8080/"
        },
        "id": "MPtKL9a1mHfj",
        "outputId": "1df772c0-30d6-4c2f-e75d-f04c5dc2d011"
      },
      "source": [
        "prob_c2 = len(class2_train)/no_of_samples\n",
        "prob_c2"
      ],
      "execution_count": null,
      "outputs": [
        {
          "output_type": "execute_result",
          "data": {
            "text/plain": [
              "0.19597989949748743"
            ]
          },
          "metadata": {
            "tags": []
          },
          "execution_count": 27
        }
      ]
    },
    {
      "cell_type": "markdown",
      "metadata": {
        "id": "rWiy1D4pajQk"
      },
      "source": [
        "Plotting the prior"
      ]
    },
    {
      "cell_type": "code",
      "metadata": {
        "colab": {
          "base_uri": "https://localhost:8080/",
          "height": 592
        },
        "id": "27dp41Fbai0D",
        "outputId": "801f11e5-42b7-487a-b39d-dd82ba85dfb1"
      },
      "source": [
        "#Requires proper labelling\n",
        "f = plt.figure()\n",
        "f.set_figwidth(10)\n",
        "f.set_figheight(10)\n",
        "sns.distplot(class1_train,label='C1')\n",
        "sns.distplot(class2_train)\n",
        "plt.show()"
      ],
      "execution_count": null,
      "outputs": [
        {
          "output_type": "display_data",
          "data": {
            "image/png": "[encoded data removed]",
            "text/plain": [
              "<Figure size 720x720 with 1 Axes>"
            ]
          },
          "metadata": {
            "tags": [],
            "needs_background": "light"
          }
        }
      ]
    },
    {
      "cell_type": "markdown",
      "metadata": {
        "id": "e1o8kAn0Jer9"
      },
      "source": [
        "Plot the data distribution and the histogram of feature 1 and feature 2 in the x axis and the y -axis respectively. The distribution of feature 1 wil be along the top of the x-axis and feature 2 along the right of the y axis."
      ]
    },
    {
      "cell_type": "markdown",
      "metadata": {
        "id": "mCYW-UAFy-bl"
      },
      "source": [
        "# Plot the Prior by discretizing the data"
      ]
    },
    {
      "cell_type": "code",
      "metadata": {
        "collapsed": true,
        "id": "3-CD4d940-pt",
        "colab": {
          "base_uri": "https://localhost:8080/",
          "height": 402
        },
        "outputId": "7bea8703-518f-4119-f4bc-801962035255"
      },
      "source": [
        "f1 = pd.read_csv('/content/c1.csv')\n",
        "f2 = pd.read_csv('/content/c2.csv')\n",
        "f1['class'] = 0\n",
        "f2['class'] = 1\n",
        "df = pd.concat([f1,f2])\n",
        "df"
      ],
      "execution_count": null,
      "outputs": [
        {
          "output_type": "execute_result",
          "data": {
            "text/html": [
              "<div>\n",
              "<style scoped>\n",
              "    .dataframe tbody tr th:only-of-type {\n",
              "        vertical-align: middle;\n",
              "    }\n",
              "\n",
              "    .dataframe tbody tr th {\n",
              "        vertical-align: top;\n",
              "    }\n",
              "\n",
              "    .dataframe thead th {\n",
              "        text-align: right;\n",
              "    }\n",
              "</style>\n",
              "<table border=\"1\" class=\"dataframe\">\n",
              "  <thead>\n",
              "    <tr style=\"text-align: right;\">\n",
              "      <th></th>\n",
              "      <th>x1</th>\n",
              "      <th>x2</th>\n",
              "      <th>class</th>\n",
              "    </tr>\n",
              "  </thead>\n",
              "  <tbody>\n",
              "    <tr>\n",
              "      <th>0</th>\n",
              "      <td>0.320478</td>\n",
              "      <td>0.481092</td>\n",
              "      <td>0</td>\n",
              "    </tr>\n",
              "    <tr>\n",
              "      <th>1</th>\n",
              "      <td>0.050691</td>\n",
              "      <td>0.096400</td>\n",
              "      <td>0</td>\n",
              "    </tr>\n",
              "    <tr>\n",
              "      <th>2</th>\n",
              "      <td>3.748470</td>\n",
              "      <td>0.403931</td>\n",
              "      <td>0</td>\n",
              "    </tr>\n",
              "    <tr>\n",
              "      <th>3</th>\n",
              "      <td>2.256374</td>\n",
              "      <td>2.089962</td>\n",
              "      <td>0</td>\n",
              "    </tr>\n",
              "    <tr>\n",
              "      <th>4</th>\n",
              "      <td>1.421454</td>\n",
              "      <td>1.243629</td>\n",
              "      <td>0</td>\n",
              "    </tr>\n",
              "    <tr>\n",
              "      <th>...</th>\n",
              "      <td>...</td>\n",
              "      <td>...</td>\n",
              "      <td>...</td>\n",
              "    </tr>\n",
              "    <tr>\n",
              "      <th>34</th>\n",
              "      <td>-0.201574</td>\n",
              "      <td>-1.057435</td>\n",
              "      <td>1</td>\n",
              "    </tr>\n",
              "    <tr>\n",
              "      <th>35</th>\n",
              "      <td>-1.124155</td>\n",
              "      <td>-0.488612</td>\n",
              "      <td>1</td>\n",
              "    </tr>\n",
              "    <tr>\n",
              "      <th>36</th>\n",
              "      <td>0.600648</td>\n",
              "      <td>-0.382622</td>\n",
              "      <td>1</td>\n",
              "    </tr>\n",
              "    <tr>\n",
              "      <th>37</th>\n",
              "      <td>0.162933</td>\n",
              "      <td>0.200207</td>\n",
              "      <td>1</td>\n",
              "    </tr>\n",
              "    <tr>\n",
              "      <th>38</th>\n",
              "      <td>-0.867570</td>\n",
              "      <td>-2.730560</td>\n",
              "      <td>1</td>\n",
              "    </tr>\n",
              "  </tbody>\n",
              "</table>\n",
              "<p>199 rows × 3 columns</p>\n",
              "</div>"
            ],
            "text/plain": [
              "          x1        x2  class\n",
              "0   0.320478  0.481092      0\n",
              "1   0.050691  0.096400      0\n",
              "2   3.748470  0.403931      0\n",
              "3   2.256374  2.089962      0\n",
              "4   1.421454  1.243629      0\n",
              "..       ...       ...    ...\n",
              "34 -0.201574 -1.057435      1\n",
              "35 -1.124155 -0.488612      1\n",
              "36  0.600648 -0.382622      1\n",
              "37  0.162933  0.200207      1\n",
              "38 -0.867570 -2.730560      1\n",
              "\n",
              "[199 rows x 3 columns]"
            ]
          },
          "metadata": {
            "tags": []
          },
          "execution_count": 29
        }
      ]
    },
    {
      "cell_type": "code",
      "metadata": {
        "collapsed": true,
        "id": "ZnvGAaHj7tHe",
        "colab": {
          "base_uri": "https://localhost:8080/"
        },
        "outputId": "01293205-1fc5-4084-ca9c-aadf35e313d8"
      },
      "source": [
        "feat1 = df['x1'].values.ravel()\n",
        "feat2 = df['x2'].values.ravel()\n",
        "\n",
        "num_bins = 10\n",
        "bin1 = pd.cut(feat1, bins=num_bins)\n",
        "bin2 = pd.cut(feat2, bins=num_bins)\n",
        "print(bin2)"
      ],
      "execution_count": null,
      "outputs": [
        {
          "output_type": "stream",
          "text": [
            "[(0.437, 1.094], (-0.22, 0.437], (-0.22, 0.437], (1.75, 2.407], (1.094, 1.75], ..., (-1.533, -0.876], (-0.876, -0.22], (-0.876, -0.22], (-0.22, 0.437], (-2.853, -2.19]]\n",
            "Length: 199\n",
            "Categories (10, interval[float64]): [(-2.853, -2.19] < (-2.19, -1.533] < (-1.533, -0.876] <\n",
            "                                     (-0.876, -0.22] ... (1.094, 1.75] < (1.75, 2.407] <\n",
            "                                     (2.407, 3.064] < (3.064, 3.72]]\n"
          ],
          "name": "stdout"
        }
      ]
    },
    {
      "cell_type": "code",
      "metadata": {
        "collapsed": true,
        "id": "Cb4H7n8W1ga0",
        "colab": {
          "base_uri": "https://localhost:8080/"
        },
        "outputId": "c7f18954-7f05-44e5-90d1-2e1e64b8cd5c"
      },
      "source": [
        "codes_f1 = bin1.codes\n",
        "codes_f2 = bin2.codes\n",
        "\n",
        "print(codes_f1)\n",
        "print(codes_f2)\n",
        "\n",
        "df[['bin1']] = codes_f1\n",
        "df[['bin2']] = codes_f2"
      ],
      "execution_count": null,
      "outputs": [
        {
          "output_type": "stream",
          "text": [
            "[5 4 9 7 6 5 7 7 7 6 6 4 8 6 7 4 6 7 5 8 6 6 4 6 7 4 8 6 9 5 5 4 5 5 6 5 6\n",
            " 6 6 5 5 6 7 5 7 5 4 4 5 7 4 5 3 7 5 5 5 5 6 4 4 7 7 4 4 4 8 5 5 4 4 6 5 7\n",
            " 5 6 7 7 4 6 7 6 6 4 7 7 7 4 6 5 8 8 3 5 7 5 2 5 5 5 5 4 5 4 4 6 5 6 7 7 6\n",
            " 6 6 5 7 6 5 5 6 6 6 6 6 5 6 8 5 7 5 6 8 5 4 6 5 6 5 5 7 4 7 6 7 6 7 6 8 5\n",
            " 6 7 5 5 7 3 5 9 7 5 7 7 3 3 4 3 3 5 5 2 3 2 5 3 1 4 3 3 4 4 1 5 3 3 3 0 2\n",
            " 3 6 1 0 4 3 3 2 0 4 3 5 5 3]\n",
            "[5 4 4 7 6 5 5 6 8 4 3 4 7 4 6 5 4 8 4 6 6 3 8 5 6 3 5 6 7 4 7 6 5 6 6 7 7\n",
            " 6 7 9 7 4 5 5 4 7 1 5 5 6 5 6 7 5 5 6 7 6 6 6 8 3 4 6 6 5 6 6 3 7 5 3 7 5\n",
            " 7 5 6 6 6 3 1 6 7 5 6 5 5 5 4 6 7 6 5 4 7 4 6 5 7 6 4 6 6 5 6 4 5 7 7 6 5\n",
            " 5 6 4 6 6 5 6 7 4 4 6 7 5 5 8 6 7 3 7 4 4 5 5 5 7 7 6 4 5 4 4 5 4 4 4 7 5\n",
            " 5 5 5 5 2 5 5 8 4 5 5 6 6 0 1 2 2 4 3 4 3 2 3 2 3 4 0 3 2 2 2 3 2 4 3 2 1\n",
            " 5 5 0 1 3 1 2 4 0 2 3 3 4 0]\n"
          ],
          "name": "stdout"
        }
      ]
    },
    {
      "cell_type": "code",
      "metadata": {
        "collapsed": true,
        "id": "81cqK4tL7UhB",
        "colab": {
          "base_uri": "https://localhost:8080/",
          "height": 402
        },
        "outputId": "05b0d4a0-cdc0-482e-bb76-dcfcffed3a0d"
      },
      "source": [
        "df"
      ],
      "execution_count": null,
      "outputs": [
        {
          "output_type": "execute_result",
          "data": {
            "text/html": [
              "<div>\n",
              "<style scoped>\n",
              "    .dataframe tbody tr th:only-of-type {\n",
              "        vertical-align: middle;\n",
              "    }\n",
              "\n",
              "    .dataframe tbody tr th {\n",
              "        vertical-align: top;\n",
              "    }\n",
              "\n",
              "    .dataframe thead th {\n",
              "        text-align: right;\n",
              "    }\n",
              "</style>\n",
              "<table border=\"1\" class=\"dataframe\">\n",
              "  <thead>\n",
              "    <tr style=\"text-align: right;\">\n",
              "      <th></th>\n",
              "      <th>x1</th>\n",
              "      <th>x2</th>\n",
              "      <th>class</th>\n",
              "      <th>bin1</th>\n",
              "      <th>bin2</th>\n",
              "    </tr>\n",
              "  </thead>\n",
              "  <tbody>\n",
              "    <tr>\n",
              "      <th>0</th>\n",
              "      <td>0.320478</td>\n",
              "      <td>0.481092</td>\n",
              "      <td>0</td>\n",
              "      <td>5</td>\n",
              "      <td>5</td>\n",
              "    </tr>\n",
              "    <tr>\n",
              "      <th>1</th>\n",
              "      <td>0.050691</td>\n",
              "      <td>0.096400</td>\n",
              "      <td>0</td>\n",
              "      <td>4</td>\n",
              "      <td>4</td>\n",
              "    </tr>\n",
              "    <tr>\n",
              "      <th>2</th>\n",
              "      <td>3.748470</td>\n",
              "      <td>0.403931</td>\n",
              "      <td>0</td>\n",
              "      <td>9</td>\n",
              "      <td>4</td>\n",
              "    </tr>\n",
              "    <tr>\n",
              "      <th>3</th>\n",
              "      <td>2.256374</td>\n",
              "      <td>2.089962</td>\n",
              "      <td>0</td>\n",
              "      <td>7</td>\n",
              "      <td>7</td>\n",
              "    </tr>\n",
              "    <tr>\n",
              "      <th>4</th>\n",
              "      <td>1.421454</td>\n",
              "      <td>1.243629</td>\n",
              "      <td>0</td>\n",
              "      <td>6</td>\n",
              "      <td>6</td>\n",
              "    </tr>\n",
              "    <tr>\n",
              "      <th>...</th>\n",
              "      <td>...</td>\n",
              "      <td>...</td>\n",
              "      <td>...</td>\n",
              "      <td>...</td>\n",
              "      <td>...</td>\n",
              "    </tr>\n",
              "    <tr>\n",
              "      <th>34</th>\n",
              "      <td>-0.201574</td>\n",
              "      <td>-1.057435</td>\n",
              "      <td>1</td>\n",
              "      <td>4</td>\n",
              "      <td>2</td>\n",
              "    </tr>\n",
              "    <tr>\n",
              "      <th>35</th>\n",
              "      <td>-1.124155</td>\n",
              "      <td>-0.488612</td>\n",
              "      <td>1</td>\n",
              "      <td>3</td>\n",
              "      <td>3</td>\n",
              "    </tr>\n",
              "    <tr>\n",
              "      <th>36</th>\n",
              "      <td>0.600648</td>\n",
              "      <td>-0.382622</td>\n",
              "      <td>1</td>\n",
              "      <td>5</td>\n",
              "      <td>3</td>\n",
              "    </tr>\n",
              "    <tr>\n",
              "      <th>37</th>\n",
              "      <td>0.162933</td>\n",
              "      <td>0.200207</td>\n",
              "      <td>1</td>\n",
              "      <td>5</td>\n",
              "      <td>4</td>\n",
              "    </tr>\n",
              "    <tr>\n",
              "      <th>38</th>\n",
              "      <td>-0.867570</td>\n",
              "      <td>-2.730560</td>\n",
              "      <td>1</td>\n",
              "      <td>3</td>\n",
              "      <td>0</td>\n",
              "    </tr>\n",
              "  </tbody>\n",
              "</table>\n",
              "<p>199 rows × 5 columns</p>\n",
              "</div>"
            ],
            "text/plain": [
              "          x1        x2  class  bin1  bin2\n",
              "0   0.320478  0.481092      0     5     5\n",
              "1   0.050691  0.096400      0     4     4\n",
              "2   3.748470  0.403931      0     9     4\n",
              "3   2.256374  2.089962      0     7     7\n",
              "4   1.421454  1.243629      0     6     6\n",
              "..       ...       ...    ...   ...   ...\n",
              "34 -0.201574 -1.057435      1     4     2\n",
              "35 -1.124155 -0.488612      1     3     3\n",
              "36  0.600648 -0.382622      1     5     3\n",
              "37  0.162933  0.200207      1     5     4\n",
              "38 -0.867570 -2.730560      1     3     0\n",
              "\n",
              "[199 rows x 5 columns]"
            ]
          },
          "metadata": {
            "tags": []
          },
          "execution_count": 32
        }
      ]
    },
    {
      "cell_type": "code",
      "metadata": {
        "colab": {
          "base_uri": "https://localhost:8080/"
        },
        "id": "Qbv4xUg_ezep",
        "outputId": "de9ca7ed-c81e-460c-8b9e-6f7d5976bb47"
      },
      "source": [
        "tmp = list(df['bin1'].unique())\n",
        "tmp.sort(reverse=False)\n",
        "tmp"
      ],
      "execution_count": null,
      "outputs": [
        {
          "output_type": "execute_result",
          "data": {
            "text/plain": [
              "[0, 1, 2, 3, 4, 5, 6, 7, 8, 9]"
            ]
          },
          "metadata": {
            "tags": []
          },
          "execution_count": 33
        }
      ]
    },
    {
      "cell_type": "code",
      "metadata": {
        "colab": {
          "base_uri": "https://localhost:8080/"
        },
        "id": "h7GKitljezti",
        "outputId": "2f834598-5b3f-4dc7-b232-b17bcba749bb"
      },
      "source": [
        "cnt_b1_c1 = []\n",
        "for i in range(num_bins):\n",
        "  cnt_b1_c1.append(0)\n",
        "\n",
        "for index, row in df.iterrows():\n",
        "  if row['class'] == 0:\n",
        "    cnt_b1_c1[int(row['bin1'])] += 1\n",
        "\n",
        "cnt_b1_c2 = []\n",
        "for i in range(num_bins):\n",
        "  cnt_b1_c2.append(0)\n",
        "\n",
        "for index, row in df.iterrows():\n",
        "  if row['class'] == 1:\n",
        "    cnt_b1_c2[int(row['bin1'])] += 1\n",
        "\n",
        "cnt_b2_c1 = []\n",
        "for i in range(num_bins):\n",
        "  cnt_b2_c1.append(0)\n",
        "\n",
        "for index, row in df.iterrows():\n",
        "  if row['class'] == 0:\n",
        "    cnt_b2_c1[int(row['bin2'])] += 1\n",
        "\n",
        "cnt_b2_c2 = []\n",
        "for i in range(num_bins):\n",
        "  cnt_b2_c2.append(0)\n",
        "\n",
        "for index, row in df.iterrows():\n",
        "  if row['class'] == 1:\n",
        "    cnt_b2_c2[int(row['bin2'])] += 1\n",
        "\n",
        "print(cnt_b1_c1)\n",
        "print(cnt_b1_c2)\n",
        "print(cnt_b2_c1)\n",
        "print(cnt_b2_c2)"
      ],
      "execution_count": null,
      "outputs": [
        {
          "output_type": "stream",
          "text": [
            "[0, 0, 1, 3, 24, 46, 40, 34, 9, 3]\n",
            "[3, 3, 4, 16, 6, 6, 1, 0, 0, 0]\n",
            "[0, 2, 1, 8, 28, 45, 42, 27, 6, 1]\n",
            "[5, 4, 11, 10, 6, 2, 1, 0, 0, 0]\n"
          ],
          "name": "stdout"
        }
      ]
    },
    {
      "cell_type": "code",
      "metadata": {
        "id": "4lc9BFZtfCsN"
      },
      "source": [
        "y11 = np.array(cnt_b1_c1)/len(f1)\n",
        "y12 = np.array(cnt_b1_c2)/len(f2)\n",
        "y21 = np.array(cnt_b2_c1)/len(f1)\n",
        "y22 = np.array(cnt_b2_c2)/len(f2)"
      ],
      "execution_count": null,
      "outputs": []
    },
    {
      "cell_type": "code",
      "metadata": {
        "colab": {
          "base_uri": "https://localhost:8080/",
          "height": 279
        },
        "id": "DKqoOdeDfDax",
        "outputId": "04e31898-4bd2-4301-e962-4b57c933de7f"
      },
      "source": [
        "# prior of x1\n",
        "sns.pointplot(tmp,y11, linestyles=\"--\",markers =['x'] )\n",
        "sns.pointplot(tmp,y12,linestyles='-',markers=['o'])\n",
        "plt.xlabel(\"Class\")\n",
        "plt.ylabel(\"P(x1 | c)\")\n",
        "plt.show()"
      ],
      "execution_count": null,
      "outputs": [
        {
          "output_type": "display_data",
          "data": {
            "image/png": "[encoded data removed]",
            "text/plain": [
              "<Figure size 432x288 with 1 Axes>"
            ]
          },
          "metadata": {
            "tags": [],
            "needs_background": "light"
          }
        }
      ]
    },
    {
      "cell_type": "code",
      "metadata": {
        "colab": {
          "base_uri": "https://localhost:8080/",
          "height": 279
        },
        "id": "ZBsK6TfWfI5i",
        "outputId": "cda499fd-0306-45d0-932a-c37807d9bc04"
      },
      "source": [
        "# prior of x2\n",
        "sns.pointplot(tmp,y21, linestyles=\"--\",markers =['x'] )\n",
        "sns.pointplot(tmp,y22,linestyles='-',markers=['o'])\n",
        "plt.xlabel(\"Class\")\n",
        "plt.ylabel(\"P(x2 | c)\")\n",
        "plt.show()"
      ],
      "execution_count": null,
      "outputs": [
        {
          "output_type": "display_data",
          "data": {
            "image/png": "[encoded data removed]",
            "text/plain": [
              "<Figure size 432x288 with 1 Axes>"
            ]
          },
          "metadata": {
            "tags": [],
            "needs_background": "light"
          }
        }
      ]
    },
    {
      "cell_type": "code",
      "metadata": {
        "id": "PxLRIrVHfM3_"
      },
      "source": [
        "cnt_x1 = [0 for x in range(num_bins)]\n",
        "\n",
        "for index, row in df.iterrows():\n",
        "  cnt_x1[int(row['bin1'])] += 1\n",
        "\n",
        "cnt_x2 = [0 for x in range(num_bins)]\n",
        "\n",
        "for index, row in df.iterrows():\n",
        "  cnt_x2[int(row['bin2'])] += 1\n"
      ],
      "execution_count": null,
      "outputs": []
    },
    {
      "cell_type": "code",
      "metadata": {
        "colab": {
          "base_uri": "https://localhost:8080/"
        },
        "id": "72L0zsQ9fQOw",
        "outputId": "896a440f-50fd-428b-c0ae-b22554b23532"
      },
      "source": [
        "# class given x\n",
        "num11 = [0 for x in range(num_bins)]\n",
        "for index, row in df.iterrows():\n",
        "    if row['class'] == 0 :\n",
        "      num11[int(row['bin1'])] += 1\n",
        "\n",
        "num12 = [0 for x in range(num_bins)]\n",
        "for index, row in df.iterrows():\n",
        "    if row['class'] == 0 :\n",
        "      num12[int(row['bin2'])] += 1\n",
        "\n",
        "num21 = [0 for x in range(num_bins)]\n",
        "for index, row in df.iterrows():\n",
        "    if row['class'] == 1 :\n",
        "      num21[int(row['bin1'])] += 1\n",
        "\n",
        "num22 = [0 for x in range(num_bins)]\n",
        "for index, row in df.iterrows():\n",
        "    if row['class'] == 1 :\n",
        "      num22[int(row['bin2'])] += 1\n",
        "\n",
        "print(num11)\n",
        "print(num12)\n",
        "print(num21)\n",
        "print(num22)"
      ],
      "execution_count": null,
      "outputs": [
        {
          "output_type": "stream",
          "text": [
            "[0, 0, 1, 3, 24, 46, 40, 34, 9, 3]\n",
            "[0, 2, 1, 8, 28, 45, 42, 27, 6, 1]\n",
            "[3, 3, 4, 16, 6, 6, 1, 0, 0, 0]\n",
            "[5, 4, 11, 10, 6, 2, 1, 0, 0, 0]\n"
          ],
          "name": "stdout"
        }
      ]
    },
    {
      "cell_type": "markdown",
      "metadata": {
        "id": "HtWcUs0yfWnj"
      },
      "source": [
        "**Plot the posterior**"
      ]
    },
    {
      "cell_type": "code",
      "metadata": {
        "colab": {
          "base_uri": "https://localhost:8080/",
          "height": 279
        },
        "id": "_bNvKVRWfwJM",
        "outputId": "7d699c7e-afd2-4ae4-fc6e-8d43d920a77d"
      },
      "source": [
        "# posterior of x1\n",
        "pst11 = [n/m for n,m in zip(num11,cnt_x1)]\n",
        "pst21 = [n/m for n,m in zip(num21,cnt_x1)]\n",
        "sns.pointplot(tmp,pst11, linestyles=\"--\",markers =['x'] )\n",
        "sns.pointplot(tmp,pst21,linestyles='-',markers=['o'])\n",
        "plt.xlabel(\"x1 bin\")\n",
        "plt.ylabel(\"P(c | x1)\")\n",
        "plt.show()"
      ],
      "execution_count": null,
      "outputs": [
        {
          "output_type": "display_data",
          "data": {
            "image/png": "[encoded data removed]",
            "text/plain": [
              "<Figure size 432x288 with 1 Axes>"
            ]
          },
          "metadata": {
            "tags": [],
            "needs_background": "light"
          }
        }
      ]
    },
    {
      "cell_type": "code",
      "metadata": {
        "colab": {
          "base_uri": "https://localhost:8080/",
          "height": 279
        },
        "id": "4n57dLkRfxV2",
        "outputId": "adce50f9-e1a5-4459-c67c-d176f5d88499"
      },
      "source": [
        "# posterior of x2\n",
        "pst12 = [n/m for n,m in zip(num11,cnt_x2)]\n",
        "pst22 = [n/m for n,m in zip(num21,cnt_x2)]\n",
        "sns.pointplot(tmp,pst12, linestyles=\"--\",markers =['x'] )\n",
        "sns.pointplot(tmp,pst22,linestyles='-',markers=['o'])\n",
        "plt.xlabel(\"x2 bin\")\n",
        "plt.ylabel(\"P(c | x2)\")\n",
        "plt.show()"
      ],
      "execution_count": null,
      "outputs": [
        {
          "output_type": "display_data",
          "data": {
            "image/png": "[encoded data removed]",
            "text/plain": [
              "<Figure size 432x288 with 1 Axes>"
            ]
          },
          "metadata": {
            "tags": [],
            "needs_background": "light"
          }
        }
      ]
    },
    {
      "cell_type": "markdown",
      "metadata": {
        "id": "gd7wIEXuKORK"
      },
      "source": [
        "Plot the histogram of C1"
      ]
    },
    {
      "cell_type": "code",
      "metadata": {
        "collapsed": true,
        "id": "F60K_Ove99m2",
        "colab": {
          "base_uri": "https://localhost:8080/",
          "height": 458
        },
        "outputId": "0570b62f-20ba-4e35-b4d0-b06c89ae0c91"
      },
      "source": [
        "sns.jointplot(x=class1_train[:,0], y=class1_train[:,1])"
      ],
      "execution_count": null,
      "outputs": [
        {
          "output_type": "execute_result",
          "data": {
            "text/plain": [
              "<seaborn.axisgrid.JointGrid at 0x7effc6da8310>"
            ]
          },
          "metadata": {
            "tags": []
          },
          "execution_count": 48
        },
        {
          "output_type": "display_data",
          "data": {
            "image/png": "[encoded data removed]",
            "text/plain": [
              "<Figure size 432x432 with 3 Axes>"
            ]
          },
          "metadata": {
            "tags": [],
            "needs_background": "light"
          }
        }
      ]
    },
    {
      "cell_type": "markdown",
      "metadata": {
        "id": "T1gMmx7bKSLc"
      },
      "source": [
        "Plot the histogram of C2"
      ]
    },
    {
      "cell_type": "code",
      "metadata": {
        "collapsed": true,
        "id": "BfiHmRt-8c_J",
        "colab": {
          "base_uri": "https://localhost:8080/",
          "height": 458
        },
        "outputId": "ad7da0dd-07cc-4a76-9fb9-afbe1db40d29"
      },
      "source": [
        "sns.jointplot(x=class2_train[:,0], y=class2_train[:,1])"
      ],
      "execution_count": null,
      "outputs": [
        {
          "output_type": "execute_result",
          "data": {
            "text/plain": [
              "<seaborn.axisgrid.JointGrid at 0x7effc6d86dd0>"
            ]
          },
          "metadata": {
            "tags": []
          },
          "execution_count": 49
        },
        {
          "output_type": "display_data",
          "data": {
            "image/png": "[encoded data removed]",
            "text/plain": [
              "<Figure size 432x432 with 3 Axes>"
            ]
          },
          "metadata": {
            "tags": [],
            "needs_background": "light"
          }
        }
      ]
    },
    {
      "cell_type": "markdown",
      "metadata": {
        "id": "ioYI3x2nQs1S"
      },
      "source": [
        "# In the report please explain the plots that you are getting clearly explaining the reason ."
      ]
    },
    {
      "cell_type": "code",
      "metadata": {
        "colab": {
          "base_uri": "https://localhost:8080/",
          "height": 402
        },
        "id": "w-6pc39Ff85U",
        "outputId": "fc6c3424-4c8a-410a-8bcb-0cd1dd3a3e68"
      },
      "source": [
        "iris = pd.read_csv('/content/Iris.csv')\n",
        "iris"
      ],
      "execution_count": null,
      "outputs": [
        {
          "output_type": "execute_result",
          "data": {
            "text/html": [
              "<div>\n",
              "<style scoped>\n",
              "    .dataframe tbody tr th:only-of-type {\n",
              "        vertical-align: middle;\n",
              "    }\n",
              "\n",
              "    .dataframe tbody tr th {\n",
              "        vertical-align: top;\n",
              "    }\n",
              "\n",
              "    .dataframe thead th {\n",
              "        text-align: right;\n",
              "    }\n",
              "</style>\n",
              "<table border=\"1\" class=\"dataframe\">\n",
              "  <thead>\n",
              "    <tr style=\"text-align: right;\">\n",
              "      <th></th>\n",
              "      <th>Id</th>\n",
              "      <th>SepalLengthCm</th>\n",
              "      <th>SepalWidthCm</th>\n",
              "      <th>PetalLengthCm</th>\n",
              "      <th>PetalWidthCm</th>\n",
              "      <th>Species</th>\n",
              "    </tr>\n",
              "  </thead>\n",
              "  <tbody>\n",
              "    <tr>\n",
              "      <th>0</th>\n",
              "      <td>1</td>\n",
              "      <td>5.1</td>\n",
              "      <td>3.5</td>\n",
              "      <td>1.4</td>\n",
              "      <td>0.2</td>\n",
              "      <td>Iris-setosa</td>\n",
              "    </tr>\n",
              "    <tr>\n",
              "      <th>1</th>\n",
              "      <td>2</td>\n",
              "      <td>4.9</td>\n",
              "      <td>3.0</td>\n",
              "      <td>1.4</td>\n",
              "      <td>0.2</td>\n",
              "      <td>Iris-setosa</td>\n",
              "    </tr>\n",
              "    <tr>\n",
              "      <th>2</th>\n",
              "      <td>3</td>\n",
              "      <td>4.7</td>\n",
              "      <td>3.2</td>\n",
              "      <td>1.3</td>\n",
              "      <td>0.2</td>\n",
              "      <td>Iris-setosa</td>\n",
              "    </tr>\n",
              "    <tr>\n",
              "      <th>3</th>\n",
              "      <td>4</td>\n",
              "      <td>4.6</td>\n",
              "      <td>3.1</td>\n",
              "      <td>1.5</td>\n",
              "      <td>0.2</td>\n",
              "      <td>Iris-setosa</td>\n",
              "    </tr>\n",
              "    <tr>\n",
              "      <th>4</th>\n",
              "      <td>5</td>\n",
              "      <td>5.0</td>\n",
              "      <td>3.6</td>\n",
              "      <td>1.4</td>\n",
              "      <td>0.2</td>\n",
              "      <td>Iris-setosa</td>\n",
              "    </tr>\n",
              "    <tr>\n",
              "      <th>...</th>\n",
              "      <td>...</td>\n",
              "      <td>...</td>\n",
              "      <td>...</td>\n",
              "      <td>...</td>\n",
              "      <td>...</td>\n",
              "      <td>...</td>\n",
              "    </tr>\n",
              "    <tr>\n",
              "      <th>145</th>\n",
              "      <td>146</td>\n",
              "      <td>6.7</td>\n",
              "      <td>3.0</td>\n",
              "      <td>5.2</td>\n",
              "      <td>2.3</td>\n",
              "      <td>Iris-virginica</td>\n",
              "    </tr>\n",
              "    <tr>\n",
              "      <th>146</th>\n",
              "      <td>147</td>\n",
              "      <td>6.3</td>\n",
              "      <td>2.5</td>\n",
              "      <td>5.0</td>\n",
              "      <td>1.9</td>\n",
              "      <td>Iris-virginica</td>\n",
              "    </tr>\n",
              "    <tr>\n",
              "      <th>147</th>\n",
              "      <td>148</td>\n",
              "      <td>6.5</td>\n",
              "      <td>3.0</td>\n",
              "      <td>5.2</td>\n",
              "      <td>2.0</td>\n",
              "      <td>Iris-virginica</td>\n",
              "    </tr>\n",
              "    <tr>\n",
              "      <th>148</th>\n",
              "      <td>149</td>\n",
              "      <td>6.2</td>\n",
              "      <td>3.4</td>\n",
              "      <td>5.4</td>\n",
              "      <td>2.3</td>\n",
              "      <td>Iris-virginica</td>\n",
              "    </tr>\n",
              "    <tr>\n",
              "      <th>149</th>\n",
              "      <td>150</td>\n",
              "      <td>5.9</td>\n",
              "      <td>3.0</td>\n",
              "      <td>5.1</td>\n",
              "      <td>1.8</td>\n",
              "      <td>Iris-virginica</td>\n",
              "    </tr>\n",
              "  </tbody>\n",
              "</table>\n",
              "<p>150 rows × 6 columns</p>\n",
              "</div>"
            ],
            "text/plain": [
              "      Id  SepalLengthCm  ...  PetalWidthCm         Species\n",
              "0      1            5.1  ...           0.2     Iris-setosa\n",
              "1      2            4.9  ...           0.2     Iris-setosa\n",
              "2      3            4.7  ...           0.2     Iris-setosa\n",
              "3      4            4.6  ...           0.2     Iris-setosa\n",
              "4      5            5.0  ...           0.2     Iris-setosa\n",
              "..   ...            ...  ...           ...             ...\n",
              "145  146            6.7  ...           2.3  Iris-virginica\n",
              "146  147            6.3  ...           1.9  Iris-virginica\n",
              "147  148            6.5  ...           2.0  Iris-virginica\n",
              "148  149            6.2  ...           2.3  Iris-virginica\n",
              "149  150            5.9  ...           1.8  Iris-virginica\n",
              "\n",
              "[150 rows x 6 columns]"
            ]
          },
          "metadata": {
            "tags": []
          },
          "execution_count": 50
        }
      ]
    },
    {
      "cell_type": "code",
      "metadata": {
        "colab": {
          "base_uri": "https://localhost:8080/",
          "height": 402
        },
        "id": "k6EuW2k_f9Pt",
        "outputId": "8087c866-f713-48c4-c2b3-56fe04ede65f"
      },
      "source": [
        "iris = iris[['SepalLengthCm', 'Species']]\n",
        "iris"
      ],
      "execution_count": null,
      "outputs": [
        {
          "output_type": "execute_result",
          "data": {
            "text/html": [
              "<div>\n",
              "<style scoped>\n",
              "    .dataframe tbody tr th:only-of-type {\n",
              "        vertical-align: middle;\n",
              "    }\n",
              "\n",
              "    .dataframe tbody tr th {\n",
              "        vertical-align: top;\n",
              "    }\n",
              "\n",
              "    .dataframe thead th {\n",
              "        text-align: right;\n",
              "    }\n",
              "</style>\n",
              "<table border=\"1\" class=\"dataframe\">\n",
              "  <thead>\n",
              "    <tr style=\"text-align: right;\">\n",
              "      <th></th>\n",
              "      <th>SepalLengthCm</th>\n",
              "      <th>Species</th>\n",
              "    </tr>\n",
              "  </thead>\n",
              "  <tbody>\n",
              "    <tr>\n",
              "      <th>0</th>\n",
              "      <td>5.1</td>\n",
              "      <td>Iris-setosa</td>\n",
              "    </tr>\n",
              "    <tr>\n",
              "      <th>1</th>\n",
              "      <td>4.9</td>\n",
              "      <td>Iris-setosa</td>\n",
              "    </tr>\n",
              "    <tr>\n",
              "      <th>2</th>\n",
              "      <td>4.7</td>\n",
              "      <td>Iris-setosa</td>\n",
              "    </tr>\n",
              "    <tr>\n",
              "      <th>3</th>\n",
              "      <td>4.6</td>\n",
              "      <td>Iris-setosa</td>\n",
              "    </tr>\n",
              "    <tr>\n",
              "      <th>4</th>\n",
              "      <td>5.0</td>\n",
              "      <td>Iris-setosa</td>\n",
              "    </tr>\n",
              "    <tr>\n",
              "      <th>...</th>\n",
              "      <td>...</td>\n",
              "      <td>...</td>\n",
              "    </tr>\n",
              "    <tr>\n",
              "      <th>145</th>\n",
              "      <td>6.7</td>\n",
              "      <td>Iris-virginica</td>\n",
              "    </tr>\n",
              "    <tr>\n",
              "      <th>146</th>\n",
              "      <td>6.3</td>\n",
              "      <td>Iris-virginica</td>\n",
              "    </tr>\n",
              "    <tr>\n",
              "      <th>147</th>\n",
              "      <td>6.5</td>\n",
              "      <td>Iris-virginica</td>\n",
              "    </tr>\n",
              "    <tr>\n",
              "      <th>148</th>\n",
              "      <td>6.2</td>\n",
              "      <td>Iris-virginica</td>\n",
              "    </tr>\n",
              "    <tr>\n",
              "      <th>149</th>\n",
              "      <td>5.9</td>\n",
              "      <td>Iris-virginica</td>\n",
              "    </tr>\n",
              "  </tbody>\n",
              "</table>\n",
              "<p>150 rows × 2 columns</p>\n",
              "</div>"
            ],
            "text/plain": [
              "     SepalLengthCm         Species\n",
              "0              5.1     Iris-setosa\n",
              "1              4.9     Iris-setosa\n",
              "2              4.7     Iris-setosa\n",
              "3              4.6     Iris-setosa\n",
              "4              5.0     Iris-setosa\n",
              "..             ...             ...\n",
              "145            6.7  Iris-virginica\n",
              "146            6.3  Iris-virginica\n",
              "147            6.5  Iris-virginica\n",
              "148            6.2  Iris-virginica\n",
              "149            5.9  Iris-virginica\n",
              "\n",
              "[150 rows x 2 columns]"
            ]
          },
          "metadata": {
            "tags": []
          },
          "execution_count": 51
        }
      ]
    },
    {
      "cell_type": "code",
      "metadata": {
        "colab": {
          "base_uri": "https://localhost:8080/",
          "height": 296
        },
        "id": "FQ81EinkgJx8",
        "outputId": "8032d0b3-2cd3-4c20-e5f8-d34a3fe7470c"
      },
      "source": [
        "x = iris['SepalLengthCm']\n",
        "sns.histplot(x)"
      ],
      "execution_count": null,
      "outputs": [
        {
          "output_type": "execute_result",
          "data": {
            "text/plain": [
              "<matplotlib.axes._subplots.AxesSubplot at 0x7effc71b5fd0>"
            ]
          },
          "metadata": {
            "tags": []
          },
          "execution_count": 52
        },
        {
          "output_type": "display_data",
          "data": {
            "image/png": "[encoded data removed]",
            "text/plain": [
              "<Figure size 432x288 with 1 Axes>"
            ]
          },
          "metadata": {
            "tags": [],
            "needs_background": "light"
          }
        }
      ]
    },
    {
      "cell_type": "code",
      "metadata": {
        "colab": {
          "base_uri": "https://localhost:8080/",
          "height": 279
        },
        "id": "Rk5KvVgDgNl-",
        "outputId": "9b702ab0-b4ea-479a-e569-d07b651e5fe2"
      },
      "source": [
        "plt.hist(x)\n",
        "plt.xlabel(\"SepalLengthCm\")\n",
        "plt.ylabel(\"Count\")\n",
        "plt.show()"
      ],
      "execution_count": null,
      "outputs": [
        {
          "output_type": "display_data",
          "data": {
            "image/png": "[encoded data removed]",
            "text/plain": [
              "<Figure size 432x288 with 1 Axes>"
            ]
          },
          "metadata": {
            "tags": [],
            "needs_background": "light"
          }
        }
      ]
    },
    {
      "cell_type": "code",
      "metadata": {
        "colab": {
          "base_uri": "https://localhost:8080/",
          "height": 279
        },
        "id": "14jmdHs8gPpe",
        "outputId": "c6ff2bfb-5432-4b95-c944-c7730661fbb9"
      },
      "source": [
        "#Probability distribution of SepalLength\n",
        "sns.distplot(iris['SepalLengthCm'].to_list())\n",
        "plt.xlabel(\"Elements in class\")\n",
        "plt.ylabel(\"Count\")\n",
        "plt.show()"
      ],
      "execution_count": null,
      "outputs": [
        {
          "output_type": "display_data",
          "data": {
            "image/png": "[encoded data removed]",
            "text/plain": [
              "<Figure size 432x288 with 1 Axes>"
            ]
          },
          "metadata": {
            "tags": [],
            "needs_background": "light"
          }
        }
      ]
    }
  ]
}